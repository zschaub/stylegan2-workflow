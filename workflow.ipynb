{
 "cells": [
  {
   "cell_type": "markdown",
   "metadata": {},
   "source": [
    "This notebook will take a dataset of images, run them through TSNE to group them up (if enabled) then create a stylegan2 model with or without ADA.\n",
    "\n",
    "Below are setting to choose when running this workflow. Make sure before running to have all images you want to use in a folder inside of the images folder. For example have a folder inside images called mona-lisa filled with pictures of different versions of the Mona Lisa. Please have the subfolder have no whitespaces in the name.\n",
    "\n",
    "If TSNE is enable the program will halt after processing the images and ask you to choose which cluster to use. The clusters will be in the folder clusters.\n",
    "\n",
    "Before running make sure your kernal is set to Python 3 (TensorFlow 1.15 Python 3.7 GPU Optimized)"
   ]
  },
  {
   "cell_type": "code",
   "execution_count": null,
   "metadata": {},
   "outputs": [],
   "source": [
    "dataset_name = 'mona-lisa'\n",
    "\n",
    "use_ada = True\n",
    "use_tsne = True\n",
    "use_spacewalk = True\n",
    "\n",
    "\n",
    "# Crop Settings\n",
    "# Choose center or no-crop\n",
    "# TODO: Add random\n",
    "crop_type = 'no-crop'\n",
    "resolution = 512\n",
    "\n",
    "\n",
    "# TSNE Settings\n",
    "# Choose number of clusters to make or None for auto clustering\n",
    "num_clusters = None\n",
    "\n",
    "\n",
    "# ADA Settings\n",
    "knum = 10\n",
    "\n",
    "\n",
    "# Spacewalk Settings\n",
    "fps = 24\n",
    "seconds = 10\n",
    "#Leave seeds = None for random seeds or \n",
    "# enter a list in the form of [int, int, int..] to define the seeds\n",
    "seeds = None\n",
    "# set walk_type to 'line', 'sphere', 'noiseloop', or 'circularloop'\n",
    "walk_type = 'sphere'\n"
   ]
  },
  {
   "cell_type": "code",
   "execution_count": null,
   "metadata": {},
   "outputs": [],
   "source": [
    "!pip install -r requirements.txt"
   ]
  },
  {
   "cell_type": "code",
   "execution_count": null,
   "metadata": {},
   "outputs": [],
   "source": [
    "import os\n",
    "import train\n",
    "from PIL import Image, ImageFile, ImageOps\n",
    "import shutil\n",
    "import math\n",
    "\n",
    "ImageFile.LOAD_TRUNCATED_IMAGES = True"
   ]
  },
  {
   "cell_type": "code",
   "execution_count": null,
   "metadata": {},
   "outputs": [],
   "source": [
    "def resize(pil_img, res):\n",
    "    return pil_img.resize((res, res))\n",
    "\n",
    "def crop_center(pil_img, res):\n",
    "    \n",
    "    crop = res\n",
    "    \n",
    "    img_width, img_height = pil_img.size\n",
    "    if img_width < crop:\n",
    "        crop = img_width\n",
    "    if img_height < crop:\n",
    "        crop = img_height\n",
    "        \n",
    "    a = (img_width - crop) // 2\n",
    "    b = (img_height - crop) // 2\n",
    "    c = (img_width + crop) // 2\n",
    "    d = (img_height + crop) // 2\n",
    "        \n",
    "    cropped_image = pil_img.crop((a,b,c,d))\n",
    "    return resize(cropped_image, res)\n",
    "\n",
    "def no_crop(pil_img, res):\n",
    "    color = [0, 0, 0]\n",
    "    \n",
    "    img_width, img_height = pil_img.size\n",
    "    if img_width < img_height:\n",
    "        top = 0\n",
    "        bottom = 0\n",
    "        left =  math.ceil((img_height - img_width) / 2.0)\n",
    "        right =  math.floor((img_height - img_width) / 2.0)\n",
    "    else:\n",
    "        top =  math.ceil((img_height - img_width) / 2.0)\n",
    "        bottom =  math.floor((img_height - img_width) / 2.0)\n",
    "        left = 0\n",
    "        right = 0\n",
    "    \n",
    "    border_image = ImageOps.expand(pil_img, border=(left, top, right, bottom), fill='white')\n",
    "    return resize(border_image, res)"
   ]
  },
  {
   "cell_type": "code",
   "execution_count": null,
   "metadata": {},
   "outputs": [],
   "source": [
    "image_dir = './images/'\n",
    "tmp_dir = './tmp/'\n",
    "\n",
    "image_dir = os.path.join(image_dir, dataset_name)\n",
    "tmp_dir = os.path.join(tmp_dir, dataset_name)\n",
    "\n",
    "\n",
    "if not os.path.exists(tmp_dir):\n",
    "    os.makedirs(tmp_dir)\n",
    "else:\n",
    "    try:\n",
    "        shutil.rmtree(tmp_dir)\n",
    "    except OSError as e:\n",
    "        print(\"Error: %s : %s\" % (dir_path, e.strerror))\n",
    "    os.makedirs(tmp_dir)\n",
    "    \n",
    "\n",
    "for filename in os.listdir(image_dir):\n",
    "    file_extension = os.path.splitext(filename)[-1]\n",
    "    if file_extension != '.jpg' and file_extension != '.png':\n",
    "        print(file_extension)\n",
    "        continue\n",
    "    \n",
    "    image_path = os.path.join(image_dir, filename)\n",
    "    image = Image.open(image_path)\n",
    "    mode = image.mode\n",
    "    if str(mode) != 'RGB':\n",
    "        continue\n",
    "    if crop_type == \"center\":\n",
    "        image = crop_center(image, resolution)\n",
    "    if crop_type == \"no-crop\":\n",
    "        image = no_crop(image, resolution)\n",
    "        \n",
    "    tmp_path = os.path.join(tmp_dir, filename)\n",
    "    image.save(tmp_path)"
   ]
  },
  {
   "cell_type": "code",
   "execution_count": null,
   "metadata": {},
   "outputs": [],
   "source": [
    "if use_tsne:\n",
    "    !python tsne.py --path={tmp_dir}\n",
    "else:\n",
    "    print('TSNE is not in use')"
   ]
  },
  {
   "cell_type": "markdown",
   "metadata": {},
   "source": [
    "If TSNE is enabled when it is finished running check the Clusters folder and choose the cluster you want to use below"
   ]
  },
  {
   "cell_type": "code",
   "execution_count": null,
   "metadata": {},
   "outputs": [],
   "source": [
    "if use_tsne:\n",
    "    clusters = []\n",
    "    while True:\n",
    "        x = input(\"Enter a cluster you want to use or Enter to continue: \")\n",
    "        if x == '':\n",
    "            break\n",
    "        clusters.append(int(x))"
   ]
  },
  {
   "cell_type": "code",
   "execution_count": null,
   "metadata": {},
   "outputs": [],
   "source": [
    "if use_tsne:\n",
    "    save_dir = os.path.join(\"./tmp\", str(dataset_name + \"_clusters\"))\n",
    "    \n",
    "    if not os.path.exists(save_dir):\n",
    "        os.makedirs(save_dir)\n",
    "    else:\n",
    "        try:\n",
    "            shutil.rmtree(save_dir)\n",
    "        except OSError as e:\n",
    "            print(\"Error: %s : %s\" % (save_dir, e.strerror))\n",
    "        os.makedirs(save_dir)\n",
    "                            \n",
    "    for c in clusters:\n",
    "        cluster_dir = os.path.join(\"./clusters\", dataset_name, str(\"cluster_\" + str(c)))\n",
    "        \n",
    "        for filename in os.listdir(cluster_dir):\n",
    "            file = os.path.join(cluster_dir, filename)\n",
    "            new_file = os.path.join(save_dir, filename)\n",
    "            shutil.move(file, new_file)\n",
    "    "
   ]
  },
  {
   "cell_type": "code",
   "execution_count": null,
   "metadata": {},
   "outputs": [],
   "source": [
    "dataset_dir = os.path.join(\"./datasets\", dataset_name)\n",
    "\n",
    "if use_ada and use_tsne:\n",
    "    image_dir = os.path.join(\"./tmp\", str(dataset_name + \"_clusters\"))\n",
    "    !python dataset_tool.py create_from_images {dataset_dir} {image_dir}\n",
    "    !python train.py --outdir=./training-runs --gpus=4 --res={resolution} --data={dataset_dir} --kimg={knum}\n",
    "elif use_ada:\n",
    "    image_dir = os.path.join(\"./tmp\", dataset_name)\n",
    "    !python dataset_tool.py create_from_images {dataset_dir} {image_dir}\n",
    "    !python train.py --outdir=./training-runs --gpus=4 --res={resolution} --data={dataset_dir} --kimg={knum}\n",
    "else:\n",
    "    print(\"ADA is not in use\")\n",
    "    "
   ]
  },
  {
   "cell_type": "code",
   "execution_count": null,
   "metadata": {},
   "outputs": [],
   "source": []
  },
  {
   "cell_type": "code",
   "execution_count": null,
   "metadata": {},
   "outputs": [],
   "source": []
  }
 ],
 "metadata": {
  "instance_type": "ml.g4dn.xlarge",
  "kernelspec": {
   "display_name": "Python 3 (TensorFlow 1.15 Python 3.7 GPU Optimized)",
   "language": "python",
   "name": "python3__SAGEMAKER_INTERNAL__arn:aws:sagemaker:us-east-2:429704687514:image/tensorflow-1.15-gpu-py37-cu110-ubuntu18.04-v8"
  },
  "language_info": {
   "codemirror_mode": {
    "name": "ipython",
    "version": 3
   },
   "file_extension": ".py",
   "mimetype": "text/x-python",
   "name": "python",
   "nbconvert_exporter": "python",
   "pygments_lexer": "ipython3",
   "version": "3.7.10"
  }
 },
 "nbformat": 4,
 "nbformat_minor": 4
}
