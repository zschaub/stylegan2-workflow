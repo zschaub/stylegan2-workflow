{
 "cells": [
  {
   "cell_type": "markdown",
   "metadata": {},
   "source": [
    "This notebook will take a dataset of images, run them through TSNE to group them up (if enabled) then create a stylegan2 model with or without ADA.\n",
    "\n",
    "Below are setting to choose when running this workflow. Make sure before running to have all images you want to use in a folder inside of the images folder. For example have a folder inside images called mona-lisa filled with pictures of different versions of the Mona Lisa. Please have the subfolder have no whitespaces in the name.\n",
    "\n",
    "If TSNE is enable the program will halt after processing the images and ask you to choose which cluster to use. The clusters will be in the folder clusters.\n",
    "\n",
    "Before running make sure your kernal is set to Python 3 (TensorFlow 1.15 Python 3.7 GPU Optimized)"
   ]
  },
  {
   "cell_type": "code",
   "execution_count": 40,
   "metadata": {},
   "outputs": [],
   "source": [
    "dataset_name = 'mona-lisa'\n",
    "\n",
    "use_ada = True\n",
    "use_tsne = True\n",
    "use_spacewalk = True\n",
    "\n",
    "\n",
    "# Crop Settings\n",
    "# Choose center, or resize\n",
    "crop_type = 'resize'\n",
    "resolution = 512\n",
    "\n",
    "# TSNE Settings\n",
    "# Choose number of clusters to make or None for auto clustering\n",
    "num_clusters = None\n",
    "\n",
    "# ADA Settings\n",
    "knum = 10\n",
    "\n",
    "# Spacewalk Settings\n",
    "fps = 24\n",
    "seconds = 10\n",
    "#Leave seeds = None for random seeds or \n",
    "# enter a list in the form of [int, int, int..] to define the seeds\n",
    "seeds = None\n",
    "# set walk_type to 'line', 'sphere', 'noiseloop', or 'circularloop'\n",
    "walk_type = 'sphere'\n"
   ]
  },
  {
   "cell_type": "code",
   "execution_count": 6,
   "metadata": {},
   "outputs": [
    {
     "name": "stdout",
     "output_type": "stream",
     "text": [
      "Requirement already satisfied: opencv-python>=3.4.1.15 in /usr/local/lib/python3.7/site-packages (from -r requirements.txt (line 1)) (4.3.0.36)\n",
      "Requirement already satisfied: numpy>=1.18.1 in /usr/local/lib/python3.7/site-packages (from -r requirements.txt (line 2)) (1.18.5)\n",
      "Requirement already satisfied: matplotlib>=3.2.0 in /usr/local/lib/python3.7/site-packages (from -r requirements.txt (line 3)) (3.4.2)\n",
      "Requirement already satisfied: tqdm==4.45.0 in /usr/local/lib/python3.7/site-packages (from -r requirements.txt (line 4)) (4.45.0)\n",
      "Requirement already satisfied: Pillow==7.0.0 in /usr/local/lib/python3.7/site-packages (from -r requirements.txt (line 5)) (7.0.0)\n",
      "Requirement already satisfied: scikit-learn==0.22.2.post1 in /usr/local/lib/python3.7/site-packages (from -r requirements.txt (line 6)) (0.22.2.post1)\n",
      "Requirement already satisfied: scipy==1.4.1 in /usr/local/lib/python3.7/site-packages (from -r requirements.txt (line 7)) (1.4.1)\n",
      "Requirement already satisfied: torch==1.4.0 in /usr/local/lib/python3.7/site-packages (from -r requirements.txt (line 8)) (1.4.0)\n",
      "Requirement already satisfied: torchvision==0.5.0 in /usr/local/lib/python3.7/site-packages (from -r requirements.txt (line 9)) (0.5.0)\n",
      "Requirement already satisfied: gap-stat>=2 in /usr/local/lib/python3.7/site-packages (from -r requirements.txt (line 10)) (2.0.1)\n",
      "Requirement already satisfied: opensimplex in /usr/local/lib/python3.7/site-packages (from -r requirements.txt (line 12)) (0.3)\n",
      "Requirement already satisfied: joblib>=0.11 in /usr/local/lib/python3.7/site-packages (from scikit-learn==0.22.2.post1->-r requirements.txt (line 6)) (1.0.1)\n",
      "Requirement already satisfied: six in /usr/local/lib/python3.7/site-packages (from torchvision==0.5.0->-r requirements.txt (line 9)) (1.15.0)\n",
      "Requirement already satisfied: pandas in /usr/local/lib/python3.7/site-packages (from gap-stat>=2->-r requirements.txt (line 10)) (1.1.0)\n",
      "Requirement already satisfied: kiwisolver>=1.0.1 in /usr/local/lib/python3.7/site-packages (from matplotlib>=3.2.0->-r requirements.txt (line 3)) (1.3.1)\n",
      "Requirement already satisfied: pyparsing>=2.2.1 in /usr/local/lib/python3.7/site-packages (from matplotlib>=3.2.0->-r requirements.txt (line 3)) (2.4.7)\n",
      "Requirement already satisfied: cycler>=0.10 in /usr/local/lib/python3.7/site-packages (from matplotlib>=3.2.0->-r requirements.txt (line 3)) (0.10.0)\n",
      "Requirement already satisfied: python-dateutil>=2.7 in /usr/local/lib/python3.7/site-packages (from matplotlib>=3.2.0->-r requirements.txt (line 3)) (2.8.1)\n",
      "Requirement already satisfied: pytz>=2017.2 in /usr/local/lib/python3.7/site-packages (from pandas->gap-stat>=2->-r requirements.txt (line 10)) (2021.1)\n",
      "\u001b[33mWARNING: You are using pip version 21.0.1; however, version 21.2.1 is available.\n",
      "You should consider upgrading via the '/usr/local/bin/python3.7 -m pip install --upgrade pip' command.\u001b[0m\n"
     ]
    }
   ],
   "source": [
    "!pip install -r requirements.txt"
   ]
  },
  {
   "cell_type": "code",
   "execution_count": 12,
   "metadata": {},
   "outputs": [
    {
     "name": "stdout",
     "output_type": "stream",
     "text": [
      "WARNING:tensorflow:From /usr/local/lib/python3.7/site-packages/tensorflow_core/__init__.py:1473: The name tf.estimator.inputs is deprecated. Please use tf.compat.v1.estimator.inputs instead.\n",
      "\n"
     ]
    }
   ],
   "source": [
    "import os\n",
    "import train\n",
    "from PIL import Image\n",
    "import shutil\n",
    "\n",
    "from PIL import ImageFile\n",
    "ImageFile.LOAD_TRUNCATED_IMAGES = True"
   ]
  },
  {
   "cell_type": "code",
   "execution_count": 17,
   "metadata": {},
   "outputs": [],
   "source": [
    "def resize(pil_img, res):\n",
    "    return pil_img.resize((res, res))\n",
    "\n",
    "def crop_center(pil_img, res):\n",
    "    \n",
    "    crop = res\n",
    "    \n",
    "    img_width, img_height = pil_img.size\n",
    "    if img_width < crop:\n",
    "        crop = img_width\n",
    "    if img_height < crop:\n",
    "        crop = img_height\n",
    "        \n",
    "    a = (img_width - crop) // 2\n",
    "    b = (img_height - crop) // 2\n",
    "    c = (img_width + crop) // 2\n",
    "    d = (img_height + crop) // 2\n",
    "        \n",
    "    cropped_image = pil_img.crop((a,b,c,d))\n",
    "    return resize(cropped_image, res)"
   ]
  },
  {
   "cell_type": "code",
   "execution_count": 23,
   "metadata": {},
   "outputs": [
    {
     "name": "stdout",
     "output_type": "stream",
     "text": [
      "\n"
     ]
    }
   ],
   "source": [
    "image_dir = './images/'\n",
    "tmp_dir = './tmp/'\n",
    "\n",
    "image_dir = os.path.join(image_dir, dataset_name)\n",
    "tmp_dir = os.path.join(tmp_dir, dataset_name)\n",
    "\n",
    "\n",
    "if not os.path.exists(save_dir):\n",
    "    os.makedirs(save_dir)\n",
    "else:\n",
    "    try:\n",
    "        shutil.rmtree(save_dir)\n",
    "    except OSError as e:\n",
    "        print(\"Error: %s : %s\" % (dir_path, e.strerror))\n",
    "    os.makedirs(save_dir)\n",
    "    \n",
    "\n",
    "for filename in os.listdir(image_dir):\n",
    "    file_extension = os.path.splitext(filename)[-1]\n",
    "    if file_extension != '.jpg' and file_extension != '.png':\n",
    "        print(file_extension)\n",
    "        continue\n",
    "    \n",
    "    image_path = os.path.join(image_dir, filename)\n",
    "    image = Image.open(image_path)\n",
    "    mode = image.mode\n",
    "    if str(mode) != 'RGB':\n",
    "        continue\n",
    "    if crop_type == \"center\":\n",
    "        image = crop_center(image, resolution)\n",
    "    if crop_type == \"resize\":\n",
    "        image = resize(image, resolution)\n",
    "        \n",
    "    tmp_path = os.path.join(tmp_dir, filename)\n",
    "    image.save(tmp_path)"
   ]
  },
  {
   "cell_type": "code",
   "execution_count": 41,
   "metadata": {},
   "outputs": [],
   "source": [
    "if use_tsne:\n",
    "    !python tsne.py --path={tmp_dir}"
   ]
  },
  {
   "cell_type": "code",
   "execution_count": null,
   "metadata": {},
   "outputs": [],
   "source": []
  }
 ],
 "metadata": {
  "instance_type": "ml.p3.8xlarge",
  "kernelspec": {
   "display_name": "Python 3 (TensorFlow 1.15 Python 3.7 GPU Optimized)",
   "language": "python",
   "name": "python3__SAGEMAKER_INTERNAL__arn:aws:sagemaker:us-east-2:429704687514:image/tensorflow-1.15-gpu-py37-cu110-ubuntu18.04-v8"
  },
  "language_info": {
   "codemirror_mode": {
    "name": "ipython",
    "version": 3
   },
   "file_extension": ".py",
   "mimetype": "text/x-python",
   "name": "python",
   "nbconvert_exporter": "python",
   "pygments_lexer": "ipython3",
   "version": "3.7.10"
  }
 },
 "nbformat": 4,
 "nbformat_minor": 4
}
