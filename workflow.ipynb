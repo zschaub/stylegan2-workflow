{
 "cells": [
  {
   "cell_type": "markdown",
   "metadata": {},
   "source": [
    "This notebook will take a dataset of images, run them through TSNE to group them up (if enabled) then create a stylegan2 model with or without ADA.\n",
    "\n",
    "Below are setting to choose when running this workflow. Make sure before running to have all images you want to use in a folder inside of the images folder. For example have a folder inside images called mona-lisa filled with pictures of different versions of the Mona Lisa. Please have the subfolder have no whitespaces in the name.\n",
    "\n",
    "If TSNE is enable the program will halt after processing the images and ask you to choose which cluster to use. The clusters will be in the folder clusters."
   ]
  },
  {
   "cell_type": "code",
   "execution_count": null,
   "metadata": {},
   "outputs": [],
   "source": [
    "model_name = 'example'\n",
    "\n",
    "use_ada = True\n",
    "use_tsne = True\n",
    "use_spacewalk = True\n",
    "\n",
    "\n",
    "# Crop Settings\n",
    "resolution = 512\n",
    "\n",
    "# TSNE Settings\n",
    "# Choose number of clusters to make or None for auto clustering\n",
    "num_clusters = None\n",
    "\n",
    "# ADA Settings\n",
    "knum = 10\n",
    "\n",
    "# Spacewalk Settings\n",
    "fps = 24\n",
    "seconds = 10\n",
    "#Leave seeds = None for random seeds or \n",
    "# enter a list in the form of [int, int, int..] to define the seeds\n",
    "seeds = [0,100,1000,10000]\n",
    "# set walk_type to 'line', 'sphere', 'noiseloop', or 'circularloop'\n",
    "walk_type = 'sphere'\n"
   ]
  },
  {
   "cell_type": "code",
   "execution_count": null,
   "metadata": {},
   "outputs": [],
   "source": [
    "!pip install -r requirements.txt"
   ]
  },
  {
   "cell_type": "code",
   "execution_count": null,
   "metadata": {},
   "outputs": [],
   "source": []
  }
 ],
 "metadata": {
  "instance_type": "ml.g4dn.xlarge",
  "kernelspec": {
   "display_name": "Python 3 (TensorFlow 1.15 Python 3.7 GPU Optimized)",
   "language": "python",
   "name": "python3__SAGEMAKER_INTERNAL__arn:aws:sagemaker:us-east-2:429704687514:image/tensorflow-1.15-gpu-py37-cu110-ubuntu18.04-v8"
  },
  "language_info": {
   "codemirror_mode": {
    "name": "ipython",
    "version": 3
   },
   "file_extension": ".py",
   "mimetype": "text/x-python",
   "name": "python",
   "nbconvert_exporter": "python",
   "pygments_lexer": "ipython3",
   "version": "3.7.10"
  }
 },
 "nbformat": 4,
 "nbformat_minor": 4
}
